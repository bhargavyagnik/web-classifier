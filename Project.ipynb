{
 "cells": [
  {
   "cell_type": "code",
   "execution_count": 1,
   "metadata": {},
   "outputs": [
    {
     "name": "stderr",
     "output_type": "stream",
     "text": [
      "Using TensorFlow backend.\n"
     ]
    }
   ],
   "source": [
    "import csv\n",
    "import pandas as pd\n",
    "from sklearn.model_selection import train_test_split,RandomizedSearchCV\n",
    "import numpy as np\n",
    "import keras\n",
    "from keras.preprocessing.text import Tokenizer\n",
    "from sklearn import preprocessing, metrics, naive_bayes, pipeline,feature_extraction\n",
    "import operator\n",
    "import matplotlib.pyplot as plt\n",
    "import urllib.request\n",
    "from inscriptis import get_text\n",
    "from sklearn.svm import SVC"
   ]
  },
  {
   "cell_type": "code",
   "execution_count": 3,
   "metadata": {},
   "outputs": [],
   "source": [
    "def getdataframe():\n",
    "    title=[]\n",
    "    desc=[]\n",
    "    category=[]\n",
    "    COUNT=0\n",
    "    with open('Downloads/dmoz.csv', 'r',encoding=\"utf8\") as f:\n",
    "        reader=csv.reader(f)\n",
    "        for row in reader:\n",
    "            if COUNT!=0:\n",
    "                category.append(row[1])\n",
    "                title.append(row[2])\n",
    "                desc.append(row[3])\n",
    "            else:\n",
    "                COUNT=COUNT+1\n",
    "    df=pd.DataFrame(columns=['category','title','desc'])\n",
    "    df.category = category\n",
    "    df.title = title\n",
    "    df.desc=desc\n",
    "    return df\n",
    "\n",
    "df=getdataframe()"
   ]
  },
  {
   "cell_type": "code",
   "execution_count": 5,
   "metadata": {},
   "outputs": [
    {
     "data": {
      "text/plain": [
       "(1195851, 3)"
      ]
     },
     "execution_count": 5,
     "metadata": {},
     "output_type": "execute_result"
    }
   ],
   "source": [
    "df.shape\n",
    "\n"
   ]
  },
  {
   "cell_type": "code",
   "execution_count": 6,
   "metadata": {},
   "outputs": [
    {
     "data": {
      "text/html": [
       "<div>\n",
       "<style scoped>\n",
       "    .dataframe tbody tr th:only-of-type {\n",
       "        vertical-align: middle;\n",
       "    }\n",
       "\n",
       "    .dataframe tbody tr th {\n",
       "        vertical-align: top;\n",
       "    }\n",
       "\n",
       "    .dataframe thead th {\n",
       "        text-align: right;\n",
       "    }\n",
       "</style>\n",
       "<table border=\"1\" class=\"dataframe\">\n",
       "  <thead>\n",
       "    <tr style=\"text-align: right;\">\n",
       "      <th></th>\n",
       "      <th>category</th>\n",
       "      <th>title</th>\n",
       "      <th>desc</th>\n",
       "    </tr>\n",
       "  </thead>\n",
       "  <tbody>\n",
       "    <tr>\n",
       "      <th>0</th>\n",
       "      <td>Arts</td>\n",
       "      <td>About.com: Animation Guide</td>\n",
       "      <td>Keep up with developments in online animation ...</td>\n",
       "    </tr>\n",
       "    <tr>\n",
       "      <th>1</th>\n",
       "      <td>Arts</td>\n",
       "      <td>Toonhound</td>\n",
       "      <td>British cartoon, animation and comic strip cre...</td>\n",
       "    </tr>\n",
       "    <tr>\n",
       "      <th>2</th>\n",
       "      <td>Arts</td>\n",
       "      <td>Enculturation: From Mouse to Mouse: Overcoming...</td>\n",
       "      <td>Essay by Patricia Pisters on the animated imag...</td>\n",
       "    </tr>\n",
       "    <tr>\n",
       "      <th>3</th>\n",
       "      <td>Arts</td>\n",
       "      <td>Digital Media FX: The History of Animation</td>\n",
       "      <td>Michael Crandol takes an exhaustive look at th...</td>\n",
       "    </tr>\n",
       "    <tr>\n",
       "      <th>4</th>\n",
       "      <td>Arts</td>\n",
       "      <td>Spark Online: Only Genius Is Genius</td>\n",
       "      <td>Chris Romano feels that the proliferation of F...</td>\n",
       "    </tr>\n",
       "  </tbody>\n",
       "</table>\n",
       "</div>"
      ],
      "text/plain": [
       "  category                                              title  \\\n",
       "0     Arts                         About.com: Animation Guide   \n",
       "1     Arts                                          Toonhound   \n",
       "2     Arts  Enculturation: From Mouse to Mouse: Overcoming...   \n",
       "3     Arts         Digital Media FX: The History of Animation   \n",
       "4     Arts                Spark Online: Only Genius Is Genius   \n",
       "\n",
       "                                                desc  \n",
       "0  Keep up with developments in online animation ...  \n",
       "1  British cartoon, animation and comic strip cre...  \n",
       "2  Essay by Patricia Pisters on the animated imag...  \n",
       "3  Michael Crandol takes an exhaustive look at th...  \n",
       "4  Chris Romano feels that the proliferation of F...  "
      ]
     },
     "execution_count": 6,
     "metadata": {},
     "output_type": "execute_result"
    }
   ],
   "source": [
    "df.head()\n"
   ]
  },
  {
   "cell_type": "code",
   "execution_count": 7,
   "metadata": {},
   "outputs": [
    {
     "data": {
      "text/html": [
       "<div>\n",
       "<style scoped>\n",
       "    .dataframe tbody tr th:only-of-type {\n",
       "        vertical-align: middle;\n",
       "    }\n",
       "\n",
       "    .dataframe tbody tr th {\n",
       "        vertical-align: top;\n",
       "    }\n",
       "\n",
       "    .dataframe thead th {\n",
       "        text-align: right;\n",
       "    }\n",
       "</style>\n",
       "<table border=\"1\" class=\"dataframe\">\n",
       "  <thead>\n",
       "    <tr style=\"text-align: right;\">\n",
       "      <th></th>\n",
       "      <th>category</th>\n",
       "      <th>title</th>\n",
       "      <th>desc</th>\n",
       "    </tr>\n",
       "  </thead>\n",
       "  <tbody>\n",
       "    <tr>\n",
       "      <th>1195846</th>\n",
       "      <td>Sports</td>\n",
       "      <td>MaxPreps.com</td>\n",
       "      <td>High school sports and athletes as well as spo...</td>\n",
       "    </tr>\n",
       "    <tr>\n",
       "      <th>1195847</th>\n",
       "      <td>Sports</td>\n",
       "      <td>My Score</td>\n",
       "      <td>High school sports scores, standings, and sche...</td>\n",
       "    </tr>\n",
       "    <tr>\n",
       "      <th>1195848</th>\n",
       "      <td>Sports</td>\n",
       "      <td>Sports Illustrated: High School Sports</td>\n",
       "      <td>News, analysis, commentary, feature articles, ...</td>\n",
       "    </tr>\n",
       "    <tr>\n",
       "      <th>1195849</th>\n",
       "      <td>Sports</td>\n",
       "      <td>Sports Illustrated: High School Sports</td>\n",
       "      <td>Headline news and feature stories.</td>\n",
       "    </tr>\n",
       "    <tr>\n",
       "      <th>1195850</th>\n",
       "      <td>Sports</td>\n",
       "      <td>USA Today: Preps</td>\n",
       "      <td>Features high school news and the Super 25 Ind...</td>\n",
       "    </tr>\n",
       "  </tbody>\n",
       "</table>\n",
       "</div>"
      ],
      "text/plain": [
       "        category                                   title  \\\n",
       "1195846   Sports                            MaxPreps.com   \n",
       "1195847   Sports                                My Score   \n",
       "1195848   Sports  Sports Illustrated: High School Sports   \n",
       "1195849   Sports  Sports Illustrated: High School Sports   \n",
       "1195850   Sports                        USA Today: Preps   \n",
       "\n",
       "                                                      desc  \n",
       "1195846  High school sports and athletes as well as spo...  \n",
       "1195847  High school sports scores, standings, and sche...  \n",
       "1195848  News, analysis, commentary, feature articles, ...  \n",
       "1195849                 Headline news and feature stories.  \n",
       "1195850  Features high school news and the Super 25 Ind...  "
      ]
     },
     "execution_count": 7,
     "metadata": {},
     "output_type": "execute_result"
    }
   ],
   "source": [
    "df.tail()\n"
   ]
  },
  {
   "cell_type": "code",
   "execution_count": 8,
   "metadata": {},
   "outputs": [
    {
     "data": {
      "text/plain": [
       "Text(0.5, 1.0, 'Category Counts')"
      ]
     },
     "execution_count": 8,
     "metadata": {},
     "output_type": "execute_result"
    },
    {
     "data": {
      "image/png": "[encoded data removed]",
      "text/plain": [
       "<Figure size 864x360 with 1 Axes>"
      ]
     },
     "metadata": {
      "needs_background": "light"
     },
     "output_type": "display_data"
    }
   ],
   "source": [
    "import matplotlib.pyplot as plt\n",
    "plt.figure(figsize=(12,5))\n",
    "df.category.value_counts().plot(kind='bar')\n",
    "plt.title('Category Counts')"
   ]
  },
  {
   "cell_type": "code",
   "execution_count": 14,
   "metadata": {},
   "outputs": [
    {
     "name": "stdout",
     "output_type": "stream",
     "text": [
      "984 3 106.54395572692584\n"
     ]
    }
   ],
   "source": [
    "lens = [len(x) for x in df.desc]\n",
    "print(max(lens), min(lens), np.mean(lens))"
   ]
  },
  {
   "cell_type": "code",
   "execution_count": 15,
   "metadata": {},
   "outputs": [],
   "source": [
    "df.desc=df.title+' '+df.desc\n",
    "df=df.drop(['title'],axis=1)\n",
    "df.desc= df.desc.str.lower()\n"
   ]
  },
  {
   "cell_type": "code",
   "execution_count": 20,
   "metadata": {},
   "outputs": [],
   "source": [
    "pipe = pipeline.Pipeline([('vect', feature_extraction.text.CountVectorizer()),\n",
    "                         ('tfidf', feature_extraction.text.TfidfTransformer()),\n",
    "                         ('clf',naive_bayes.ComplementNB())])\n",
    "le = preprocessing.LabelEncoder()\n",
    "le.fit(df.category)\n",
    "y_data = le.transform(df.category)\n",
    "X_data = df.desc.values\n",
    "X_train, X_test, y_train, y_test = train_test_split(X_data, y_data, \\\n",
    "        test_size=0.2, random_state=1000)"
   ]
  },
  {
   "cell_type": "code",
   "execution_count": 21,
   "metadata": {},
   "outputs": [
    {
     "data": {
      "text/plain": [
       "Pipeline(memory=None,\n",
       "     steps=[('vect', CountVectorizer(analyzer='word', binary=False, decode_error='strict',\n",
       "        dtype=<class 'numpy.int64'>, encoding='utf-8', input='content',\n",
       "        lowercase=True, max_df=1.0, max_features=None, min_df=1,\n",
       "        ngram_range=(1, 1), preprocessor=None, stop_words=None,\n",
       "        strip...lse, use_idf=True)), ('clf', ComplementNB(alpha=1.0, class_prior=None, fit_prior=True, norm=False))])"
      ]
     },
     "execution_count": 21,
     "metadata": {},
     "output_type": "execute_result"
    }
   ],
   "source": [
    "pipe.fit(X_train, y_train)"
   ]
  },
  {
   "cell_type": "code",
   "execution_count": 22,
   "metadata": {},
   "outputs": [
    {
     "name": "stdout",
     "output_type": "stream",
     "text": [
      "              precision    recall  f1-score   support\n",
      "\n",
      "        Arts       0.89      0.77      0.83     44521\n",
      "    Business       0.84      0.74      0.79     47390\n",
      "   Computers       0.79      0.79      0.79     18528\n",
      "       Games       0.71      0.89      0.79      5932\n",
      "      Health       0.82      0.79      0.80     10449\n",
      "        Home       0.58      0.75      0.65      3420\n",
      "        News       0.27      0.73      0.39       543\n",
      "  Recreation       0.72      0.80      0.76     15024\n",
      "   Reference       0.46      0.70      0.56      6271\n",
      "     Science       0.68      0.78      0.72     16471\n",
      "    Shopping       0.52      0.73      0.61     11195\n",
      "     Society       0.82      0.80      0.81     40196\n",
      "      Sports       0.91      0.81      0.86     19231\n",
      "\n",
      "   micro avg       0.78      0.78      0.78    239171\n",
      "   macro avg       0.69      0.77      0.72    239171\n",
      "weighted avg       0.80      0.78      0.78    239171\n",
      "\n"
     ]
    }
   ],
   "source": [
    "print (metrics.classification_report(pipe.predict(X_test), y_test, target_names=le.classes_))"
   ]
  },
  {
   "cell_type": "code",
   "execution_count": 23,
   "metadata": {
    "scrolled": false
   },
   "outputs": [
    {
     "name": "stderr",
     "output_type": "stream",
     "text": [
      "c:\\users\\bharg\\appdata\\local\\programs\\python\\python37\\lib\\site-packages\\sklearn\\model_selection\\_split.py:2053: FutureWarning: You should specify a value for 'cv' instead of relying on the default value. The default value will change from 3 to 5 in version 0.22.\n",
      "  warnings.warn(CV_WARNING, FutureWarning)\n",
      "c:\\users\\bharg\\appdata\\local\\programs\\python\\python37\\lib\\site-packages\\sklearn\\model_selection\\_search.py:271: UserWarning: The total space of parameters 8 is smaller than n_iter=10. Running 8 iterations. For exhaustive searches, use GridSearchCV.\n",
      "  % (grid_size, self.n_iter, grid_size), UserWarning)\n"
     ]
    }
   ],
   "source": [
    "n_iter_search = 10\n",
    "parameters = {'vect__ngram_range': [(1, 1), (1, 2)], 'tfidf__use_idf': (True, False), 'clf__alpha': (1e-2, 1e-3)}\n",
    "gs_clf = RandomizedSearchCV(pipe, parameters, n_iter = n_iter_search)\n",
    "gs_clf = gs_clf.fit(X_train, y_train)"
   ]
  },
  {
   "cell_type": "code",
   "execution_count": 24,
   "metadata": {},
   "outputs": [
    {
     "name": "stdout",
     "output_type": "stream",
     "text": [
      "              precision    recall  f1-score   support\n",
      "\n",
      "        Arts       0.90      0.83      0.86     42318\n",
      "    Business       0.88      0.79      0.83     45775\n",
      "   Computers       0.84      0.81      0.82     19105\n",
      "       Games       0.80      0.91      0.85      6456\n",
      "      Health       0.86      0.82      0.84     10512\n",
      "        Home       0.67      0.82      0.73      3563\n",
      "        News       0.48      0.75      0.59       945\n",
      "  Recreation       0.77      0.85      0.81     15310\n",
      "   Reference       0.57      0.71      0.64      7641\n",
      "     Science       0.73      0.80      0.76     17335\n",
      "    Shopping       0.64      0.77      0.70     12948\n",
      "     Society       0.85      0.85      0.85     39132\n",
      "      Sports       0.93      0.88      0.90     18131\n",
      "\n",
      "   micro avg       0.82      0.82      0.82    239171\n",
      "   macro avg       0.76      0.81      0.78    239171\n",
      "weighted avg       0.83      0.82      0.82    239171\n",
      "\n"
     ]
    }
   ],
   "source": [
    "print (metrics.classification_report(gs_clf.predict(X_test), y_test, target_names=le.classes_))"
   ]
  },
  {
   "cell_type": "code",
   "execution_count": 29,
   "metadata": {},
   "outputs": [
    {
     "name": "stdout",
     "output_type": "stream",
     "text": [
      "Enter the site you want to classify : https://www.christies.com/\n",
      "Before HyperTuning  ['Arts']\n",
      "After HyperTuning  ['Arts']\n"
     ]
    }
   ],
   "source": [
    "site=input(\"Enter the site you want to classify : \") \n",
    "url = site\n",
    "html = urllib.request.urlopen(url).read().decode('utf-8')\n",
    "text = get_text(html)\n",
    "print(\"Before HyperTuning \",le.inverse_transform(pipe.predict([text])))\n",
    "print(\"After HyperTuning \",le.inverse_transform(gs_clf.predict([text])))\n"
   ]
  },
  {
   "cell_type": "code",
   "execution_count": null,
   "metadata": {},
   "outputs": [],
   "source": []
  },
  {
   "cell_type": "code",
   "execution_count": null,
   "metadata": {},
   "outputs": [],
   "source": []
  },
  {
   "cell_type": "code",
   "execution_count": null,
   "metadata": {},
   "outputs": [],
   "source": []
  },
  {
   "cell_type": "code",
   "execution_count": null,
   "metadata": {},
   "outputs": [],
   "source": []
  },
  {
   "cell_type": "code",
   "execution_count": null,
   "metadata": {},
   "outputs": [],
   "source": []
  },
  {
   "cell_type": "code",
   "execution_count": 18,
   "metadata": {},
   "outputs": [
    {
     "name": "stdout",
     "output_type": "stream",
     "text": [
      "['Arts']\n"
     ]
    }
   ],
   "source": []
  },
  {
   "cell_type": "code",
   "execution_count": null,
   "metadata": {},
   "outputs": [],
   "source": []
  },
  {
   "cell_type": "code",
   "execution_count": null,
   "metadata": {},
   "outputs": [],
   "source": []
  },
  {
   "cell_type": "code",
   "execution_count": null,
   "metadata": {},
   "outputs": [],
   "source": []
  },
  {
   "cell_type": "code",
   "execution_count": null,
   "metadata": {},
   "outputs": [],
   "source": []
  },
  {
   "cell_type": "code",
   "execution_count": null,
   "metadata": {},
   "outputs": [],
   "source": []
  },
  {
   "cell_type": "code",
   "execution_count": null,
   "metadata": {},
   "outputs": [],
   "source": []
  },
  {
   "cell_type": "code",
   "execution_count": null,
   "metadata": {},
   "outputs": [],
   "source": []
  },
  {
   "cell_type": "code",
   "execution_count": null,
   "metadata": {},
   "outputs": [],
   "source": []
  },
  {
   "cell_type": "code",
   "execution_count": null,
   "metadata": {},
   "outputs": [],
   "source": []
  },
  {
   "cell_type": "code",
   "execution_count": null,
   "metadata": {},
   "outputs": [],
   "source": []
  },
  {
   "cell_type": "code",
   "execution_count": null,
   "metadata": {},
   "outputs": [],
   "source": []
  },
  {
   "cell_type": "code",
   "execution_count": null,
   "metadata": {},
   "outputs": [],
   "source": []
  }
 ],
 "metadata": {
  "kernelspec": {
   "display_name": "Python 3",
   "language": "python",
   "name": "python3"
  },
  "language_info": {
   "codemirror_mode": {
    "name": "ipython",
    "version": 3
   },
   "file_extension": ".py",
   "mimetype": "text/x-python",
   "name": "python",
   "nbconvert_exporter": "python",
   "pygments_lexer": "ipython3",
   "version": "3.7.1"
  }
 },
 "nbformat": 4,
 "nbformat_minor": 2
}
